{
 "cells": [
  {
   "cell_type": "code",
   "execution_count": 1,
   "metadata": {
    "collapsed": false
   },
   "outputs": [],
   "source": [
    "from __future__ import print_function\n",
    "\n",
    "import pandas as pd\n",
    "import scipy as sp\n",
    "\n",
    "from abtools.bayesian import ARPUModel\n",
    "\n",
    "%matplotlib inline"
   ]
  },
  {
   "cell_type": "code",
   "execution_count": 4,
   "metadata": {
    "collapsed": false
   },
   "outputs": [
    {
     "name": "stdout",
     "output_type": "stream",
     "text": [
      "ARPPU\n",
      "Mean: 9.9796\n",
      "Mean: 10.4296\n",
      "B больше A на 0.4500 = 4%\n",
      "Mean: 0.0303\n",
      "Mean: 0.0320\n",
      "y2 больше y1 на 0.0017 = 5%\n"
     ]
    }
   ],
   "source": [
    "mu = 9\n",
    "size = 300\n",
    "delta_true = .05\n",
    "\n",
    "arppu_a = pd.Series(sp.stats.wald.rvs(loc=mu, size=size, random_state=8228))\n",
    "arppu_b = pd.Series(sp.stats.wald.rvs(loc=mu*(1+delta_true), size=size, random_state=8228))\n",
    "\n",
    "print('ARPPU')\n",
    "print('Mean: %.4f' % arppu_a.mean())\n",
    "print('Mean: %.4f' % arppu_b.mean())\n",
    "print('B больше A на %.4f = %d%%' % (arppu_b.mean()- arppu_a.mean(), \n",
    "                                    (arppu_b.mean()/arppu_a.mean()-1)*100))\n",
    "\n",
    "p = .03\n",
    "size = 10000\n",
    "delta_true = .05\n",
    "\n",
    "c_a = pd.Series(sp.stats.bernoulli.rvs(p=p, size=size, random_state=8228))\n",
    "c_b = pd.Series(sp.stats.bernoulli.rvs(p=p*(1+delta_true), size=size, random_state=8228))\n",
    "\n",
    "print('Mean: %.4f' % (c_a.mean()))\n",
    "print('Mean: %.4f' % (c_b.mean()))\n",
    "print('y2 больше y1 на %.4f = %d%%' % (c_b.mean()- c_a.mean(), (c_b.mean()/c_a.mean()-1)*100))"
   ]
  },
  {
   "cell_type": "code",
   "execution_count": 5,
   "metadata": {
    "collapsed": false
   },
   "outputs": [
    {
     "ename": "ValueError",
     "evalue": "Variable name $\\Delta_{ARPPU}$ already exists.",
     "output_type": "error",
     "traceback": [
      "\u001b[0;31m---------------------------------------------------------------------------\u001b[0m",
      "\u001b[0;31mValueError\u001b[0m                                Traceback (most recent call last)",
      "\u001b[0;32m<ipython-input-5-df6c0ee27419>\u001b[0m in \u001b[0;36m<module>\u001b[0;34m()\u001b[0m\n\u001b[0;32m----> 1\u001b[0;31m \u001b[0mmodel\u001b[0m \u001b[0;34m=\u001b[0m \u001b[0mARPUModel\u001b[0m\u001b[0;34m(\u001b[0m\u001b[0mc_a\u001b[0m\u001b[0;34m,\u001b[0m \u001b[0mc_b\u001b[0m\u001b[0;34m,\u001b[0m \u001b[0marppu_a\u001b[0m\u001b[0;34m,\u001b[0m \u001b[0marppu_b\u001b[0m\u001b[0;34m)\u001b[0m\u001b[0;34m\u001b[0m\u001b[0m\n\u001b[0m",
      "\u001b[0;32m/usr/local/lib/python3.5/dist-packages/abtools/bayesian/models.py\u001b[0m in \u001b[0;36m__init__\u001b[0;34m(self, observed_A_conversion, observed_B_conversion, observed_A_arppu, observed_B_arppu, upper_prior_bound, std_coeff, auto_init)\u001b[0m\n\u001b[1;32m    205\u001b[0m \u001b[0;34m\u001b[0m\u001b[0m\n\u001b[1;32m    206\u001b[0m             delta_arppu = pm.Deterministic('$\\Delta_{ARPPU}$',\n\u001b[0;32m--> 207\u001b[0;31m                                            B_arppu - A_arppu)\n\u001b[0m\u001b[1;32m    208\u001b[0m             delta_std = pm.Deterministic('$\\Delta_{std}$',\n\u001b[1;32m    209\u001b[0m                                          np.sqrt(B_arppu_var) - np.sqrt(A_arppu_var))\n",
      "\u001b[0;32m/usr/local/lib/python3.5/dist-packages/pymc3/model.py\u001b[0m in \u001b[0;36mDeterministic\u001b[0;34m(name, var, model)\u001b[0m\n\u001b[1;32m    640\u001b[0m     \u001b[0mvar\u001b[0m\u001b[0;34m.\u001b[0m\u001b[0mname\u001b[0m \u001b[0;34m=\u001b[0m \u001b[0mname\u001b[0m\u001b[0;34m\u001b[0m\u001b[0m\n\u001b[1;32m    641\u001b[0m     \u001b[0mmodelcontext\u001b[0m\u001b[0;34m(\u001b[0m\u001b[0mmodel\u001b[0m\u001b[0;34m)\u001b[0m\u001b[0;34m.\u001b[0m\u001b[0mdeterministics\u001b[0m\u001b[0;34m.\u001b[0m\u001b[0mappend\u001b[0m\u001b[0;34m(\u001b[0m\u001b[0mvar\u001b[0m\u001b[0;34m)\u001b[0m\u001b[0;34m\u001b[0m\u001b[0m\n\u001b[0;32m--> 642\u001b[0;31m     \u001b[0mmodelcontext\u001b[0m\u001b[0;34m(\u001b[0m\u001b[0mmodel\u001b[0m\u001b[0;34m)\u001b[0m\u001b[0;34m.\u001b[0m\u001b[0madd_random_variable\u001b[0m\u001b[0;34m(\u001b[0m\u001b[0mvar\u001b[0m\u001b[0;34m)\u001b[0m\u001b[0;34m\u001b[0m\u001b[0m\n\u001b[0m\u001b[1;32m    643\u001b[0m     \u001b[0;32mreturn\u001b[0m \u001b[0mvar\u001b[0m\u001b[0;34m\u001b[0m\u001b[0m\n\u001b[1;32m    644\u001b[0m \u001b[0;34m\u001b[0m\u001b[0m\n",
      "\u001b[0;32m/usr/local/lib/python3.5/dist-packages/pymc3/model.py\u001b[0m in \u001b[0;36madd_random_variable\u001b[0;34m(self, var)\u001b[0m\n\u001b[1;32m    315\u001b[0m         \u001b[0;32mif\u001b[0m \u001b[0mvar\u001b[0m\u001b[0;34m.\u001b[0m\u001b[0mname\u001b[0m \u001b[0;32min\u001b[0m \u001b[0mself\u001b[0m\u001b[0;34m.\u001b[0m\u001b[0mnamed_vars\u001b[0m\u001b[0;34m:\u001b[0m\u001b[0;34m\u001b[0m\u001b[0m\n\u001b[1;32m    316\u001b[0m             raise ValueError(\n\u001b[0;32m--> 317\u001b[0;31m                 \"Variable name {} already exists.\".format(var.name))\n\u001b[0m\u001b[1;32m    318\u001b[0m         \u001b[0mself\u001b[0m\u001b[0;34m.\u001b[0m\u001b[0mnamed_vars\u001b[0m\u001b[0;34m[\u001b[0m\u001b[0mvar\u001b[0m\u001b[0;34m.\u001b[0m\u001b[0mname\u001b[0m\u001b[0;34m]\u001b[0m \u001b[0;34m=\u001b[0m \u001b[0mvar\u001b[0m\u001b[0;34m\u001b[0m\u001b[0m\n\u001b[1;32m    319\u001b[0m         \u001b[0;32mif\u001b[0m \u001b[0;32mnot\u001b[0m \u001b[0mhasattr\u001b[0m\u001b[0;34m(\u001b[0m\u001b[0mself\u001b[0m\u001b[0;34m,\u001b[0m \u001b[0mvar\u001b[0m\u001b[0;34m.\u001b[0m\u001b[0mname\u001b[0m\u001b[0;34m)\u001b[0m\u001b[0;34m:\u001b[0m\u001b[0;34m\u001b[0m\u001b[0m\n",
      "\u001b[0;31mValueError\u001b[0m: Variable name $\\Delta_{ARPPU}$ already exists."
     ]
    }
   ],
   "source": [
    "model = ARPUModel(c_a, c_b, arppu_a, arppu_b)"
   ]
  },
  {
   "cell_type": "code",
   "execution_count": null,
   "metadata": {
    "collapsed": true
   },
   "outputs": [],
   "source": [
    "model.fit()"
   ]
  }
 ],
 "metadata": {
  "kernelspec": {
   "display_name": "Python 3",
   "language": "python",
   "name": "python3"
  },
  "language_info": {
   "codemirror_mode": {
    "name": "ipython",
    "version": 3
   },
   "file_extension": ".py",
   "mimetype": "text/x-python",
   "name": "python",
   "nbconvert_exporter": "python",
   "pygments_lexer": "ipython3",
   "version": "3.5.2"
  }
 },
 "nbformat": 4,
 "nbformat_minor": 2
}
