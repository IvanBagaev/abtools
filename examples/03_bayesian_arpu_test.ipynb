{
 "cells": [
  {
   "cell_type": "code",
   "execution_count": 1,
   "metadata": {
    "collapsed": false
   },
   "outputs": [],
   "source": [
    "from __future__ import print_function\n",
    "\n",
    "import pandas as pd\n",
    "import scipy as sp\n",
    "\n",
    "from abtools.bayesian import ARPUModel\n",
    "\n",
    "%matplotlib inline"
   ]
  },
  {
   "cell_type": "code",
   "execution_count": 2,
   "metadata": {
    "collapsed": false
   },
   "outputs": [
    {
     "name": "stdout",
     "output_type": "stream",
     "text": [
      "ARPPU\n",
      "Mean: 9.9796\n",
      "Mean: 10.4296\n",
      "B больше A на 0.4500 = 4%\n",
      "Mean: 0.0303\n",
      "Mean: 0.0320\n",
      "y2 больше y1 на 0.0017 = 5%\n"
     ]
    }
   ],
   "source": [
    "mu = 9\n",
    "size = 300\n",
    "delta_true = .05\n",
    "\n",
    "arppu_a = pd.Series(sp.stats.wald.rvs(loc=mu, size=size, random_state=8228))\n",
    "arppu_b = pd.Series(sp.stats.wald.rvs(loc=mu*(1+delta_true), size=size, random_state=8228))\n",
    "\n",
    "print('ARPPU')\n",
    "print('Mean: %.4f' % arppu_a.mean())\n",
    "print('Mean: %.4f' % arppu_b.mean())\n",
    "print('B больше A на %.4f = %d%%' % (arppu_b.mean()- arppu_a.mean(), \n",
    "                                    (arppu_b.mean()/arppu_a.mean()-1)*100))\n",
    "\n",
    "p = .03\n",
    "size = 10000\n",
    "delta_true = .05\n",
    "\n",
    "c_a = pd.Series(sp.stats.bernoulli.rvs(p=p, size=size, random_state=8228))\n",
    "c_b = pd.Series(sp.stats.bernoulli.rvs(p=p*(1+delta_true), size=size, random_state=8228))\n",
    "\n",
    "print('Mean: %.4f' % (c_a.mean()))\n",
    "print('Mean: %.4f' % (c_b.mean()))\n",
    "print('y2 больше y1 на %.4f = %d%%' % (c_b.mean()- c_a.mean(), (c_b.mean()/c_a.mean()-1)*100))"
   ]
  },
  {
   "cell_type": "code",
   "execution_count": 3,
   "metadata": {
    "collapsed": false
   },
   "outputs": [],
   "source": [
    "model = ARPUModel(c_a, c_b, arppu_a, arppu_b)"
   ]
  },
  {
   "cell_type": "code",
   "execution_count": null,
   "metadata": {
    "collapsed": true
   },
   "outputs": [],
   "source": [
    "model.fit(samples=10000, n_init=2500)"
   ]
  },
  {
   "cell_type": "code",
   "execution_count": null,
   "metadata": {
    "collapsed": true
   },
   "outputs": [],
   "source": []
  }
 ],
 "metadata": {
  "kernelspec": {
   "display_name": "Python 3",
   "language": "python",
   "name": "python3"
  },
  "language_info": {
   "codemirror_mode": {
    "name": "ipython",
    "version": 3
   },
   "file_extension": ".py",
   "mimetype": "text/x-python",
   "name": "python",
   "nbconvert_exporter": "python",
   "pygments_lexer": "ipython3",
   "version": "3.5.2"
  }
 },
 "nbformat": 4,
 "nbformat_minor": 2
}
