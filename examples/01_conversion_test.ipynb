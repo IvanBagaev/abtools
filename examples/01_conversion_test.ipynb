{
 "cells": [
  {
   "cell_type": "code",
   "execution_count": 2,
   "metadata": {
    "collapsed": true
   },
   "outputs": [],
   "source": [
    "import warnings\n",
    "warnings.filterwarnings('ignore')"
   ]
  },
  {
   "cell_type": "code",
   "execution_count": 3,
   "metadata": {
    "collapsed": true
   },
   "outputs": [],
   "source": [
    "import pandas as pd\n",
    "import scipy as sp\n",
    "import daft\n",
    "\n",
    "import matplotlib.pyplot as plt\n",
    "import numpy as np\n",
    "\n",
    "from abtools.bayesian import BernoulliABModel\n",
    "from abtools.frequentist import PermutationTest, ZTest, TTest\n",
    "\n",
    "%matplotlib inline\n",
    "#plt.xkcd()"
   ]
  },
  {
   "cell_type": "code",
   "execution_count": 4,
   "metadata": {
    "collapsed": false
   },
   "outputs": [
    {
     "name": "stdout",
     "output_type": "stream",
     "text": [
      "A - Mean: 0.0502, std: 0.22\n",
      "B - Mean: 0.0513, std: 0.22\n",
      "B better A on 0.0011 = 2.2917%\n"
     ]
    }
   ],
   "source": [
    "p = .05\n",
    "size = 200000\n",
    "delta_true = .025\n",
    "\n",
    "a = sp.stats.bernoulli.rvs(p=p, size=size, random_state=8228)\n",
    "b = sp.stats.bernoulli.rvs(p=p*(1+delta_true), size=size, random_state=8228)\n",
    "\n",
    "print('A - Mean: %.4f, std: %.2f' % (a.mean(), a.std()))\n",
    "print('B - Mean: %.4f, std: %.2f' % (b.mean(), b.std()))\n",
    "print('B better A on %.4f = %.4f%%' % (b.mean()- a.mean(), (b.mean()/a.mean()-1)*100))"
   ]
  },
  {
   "cell_type": "code",
   "execution_count": 5,
   "metadata": {
    "collapsed": false
   },
   "outputs": [
    {
     "name": "stderr",
     "output_type": "stream",
     "text": [
      "INFO (theano.gof.compilelock): Waiting for existing lock by process '25378' (I am process '19997')\n",
      "INFO (theano.gof.compilelock): To manually release the lock, delete /home/ivba/.theano/compiledir_Linux-4.10--generic-x86_64-with-Ubuntu-17.04-zesty-x86_64-3.5.3-64/lock_dir\n"
     ]
    },
    {
     "name": "stdout",
     "output_type": "stream",
     "text": [
      "Warning: Desired error not necessarily achieved due to precision loss.\n",
      "         Current function value: 80297.622360\n",
      "         Iterations: 15\n",
      "         Function evaluations: 80\n",
      "         Gradient evaluations: 70\n"
     ]
    },
    {
     "name": "stderr",
     "output_type": "stream",
     "text": [
      "100%|██████████| 10000/10000 [00:31<00:00, 316.92it/s]\n"
     ]
    },
    {
     "data": {
      "text/plain": [
       "<abtools.bayesian.abmodels.BernoulliABModel at 0x7f4e91e788d0>"
      ]
     },
     "execution_count": 5,
     "metadata": {},
     "output_type": "execute_result"
    }
   ],
   "source": [
    "model = BernoulliABModel(a, b)\n",
    "model.fit()"
   ]
  },
  {
   "cell_type": "code",
   "execution_count": 6,
   "metadata": {
    "collapsed": false
   },
   "outputs": [
    {
     "data": {
      "text/html": [
       "<div>\n",
       "<style>\n",
       "    .dataframe thead tr:only-child th {\n",
       "        text-align: right;\n",
       "    }\n",
       "\n",
       "    .dataframe thead th {\n",
       "        text-align: left;\n",
       "    }\n",
       "\n",
       "    .dataframe tbody tr th {\n",
       "        vertical-align: top;\n",
       "    }\n",
       "</style>\n",
       "<table border=\"1\" class=\"dataframe\">\n",
       "  <thead>\n",
       "    <tr style=\"text-align: right;\">\n",
       "      <th></th>\n",
       "      <th>mean</th>\n",
       "      <th>sd</th>\n",
       "      <th>mc_error</th>\n",
       "      <th>hpd_2.5</th>\n",
       "      <th>hpd_97.5</th>\n",
       "    </tr>\n",
       "  </thead>\n",
       "  <tbody>\n",
       "    <tr>\n",
       "      <th>$p_A$</th>\n",
       "      <td>0.050182</td>\n",
       "      <td>0.000479</td>\n",
       "      <td>0.000012</td>\n",
       "      <td>0.049249</td>\n",
       "      <td>0.051140</td>\n",
       "    </tr>\n",
       "    <tr>\n",
       "      <th>$p_B$</th>\n",
       "      <td>0.051310</td>\n",
       "      <td>0.000491</td>\n",
       "      <td>0.000013</td>\n",
       "      <td>0.050365</td>\n",
       "      <td>0.052291</td>\n",
       "    </tr>\n",
       "    <tr>\n",
       "      <th>$A_{\\sigma^2}$</th>\n",
       "      <td>0.047663</td>\n",
       "      <td>0.000431</td>\n",
       "      <td>0.000011</td>\n",
       "      <td>0.046823</td>\n",
       "      <td>0.048525</td>\n",
       "    </tr>\n",
       "    <tr>\n",
       "      <th>$B_{\\sigma^2}$</th>\n",
       "      <td>0.048677</td>\n",
       "      <td>0.000440</td>\n",
       "      <td>0.000012</td>\n",
       "      <td>0.047829</td>\n",
       "      <td>0.049557</td>\n",
       "    </tr>\n",
       "    <tr>\n",
       "      <th>$\\Delta_p$</th>\n",
       "      <td>0.001129</td>\n",
       "      <td>0.000674</td>\n",
       "      <td>0.000018</td>\n",
       "      <td>-0.000286</td>\n",
       "      <td>0.002372</td>\n",
       "    </tr>\n",
       "    <tr>\n",
       "      <th>$\\Delta_{\\sigma}$</th>\n",
       "      <td>0.002310</td>\n",
       "      <td>0.001380</td>\n",
       "      <td>0.000037</td>\n",
       "      <td>-0.000584</td>\n",
       "      <td>0.004852</td>\n",
       "    </tr>\n",
       "    <tr>\n",
       "      <th>Effect size</th>\n",
       "      <td>0.005142</td>\n",
       "      <td>0.003072</td>\n",
       "      <td>0.000083</td>\n",
       "      <td>-0.001304</td>\n",
       "      <td>0.010799</td>\n",
       "    </tr>\n",
       "  </tbody>\n",
       "</table>\n",
       "</div>"
      ],
      "text/plain": [
       "                       mean        sd  mc_error   hpd_2.5  hpd_97.5\n",
       "$p_A$              0.050182  0.000479  0.000012  0.049249  0.051140\n",
       "$p_B$              0.051310  0.000491  0.000013  0.050365  0.052291\n",
       "$A_{\\sigma^2}$     0.047663  0.000431  0.000011  0.046823  0.048525\n",
       "$B_{\\sigma^2}$     0.048677  0.000440  0.000012  0.047829  0.049557\n",
       "$\\Delta_p$         0.001129  0.000674  0.000018 -0.000286  0.002372\n",
       "$\\Delta_{\\sigma}$  0.002310  0.001380  0.000037 -0.000584  0.004852\n",
       "Effect size        0.005142  0.003072  0.000083 -0.001304  0.010799"
      ]
     },
     "execution_count": 6,
     "metadata": {},
     "output_type": "execute_result"
    }
   ],
   "source": [
    "model.summary()"
   ]
  },
  {
   "cell_type": "code",
   "execution_count": 7,
   "metadata": {
    "collapsed": false
   },
   "outputs": [
    {
     "data": {
      "text/plain": [
       "array([<matplotlib.axes._subplots.AxesSubplot object at 0x7f4e34adf470>,\n",
       "       <matplotlib.axes._subplots.AxesSubplot object at 0x7f4e33461518>,\n",
       "       <matplotlib.axes._subplots.AxesSubplot object at 0x7f4e33424c18>], dtype=object)"
      ]
     },
     "execution_count": 7,
     "metadata": {},
     "output_type": "execute_result"
    },
    {
     "data": {
      "image/png": "[encoded data removed]",
      "text/plain": [
       "<matplotlib.figure.Figure at 0x7f4e91e78748>"
      ]
     },
     "metadata": {},
     "output_type": "display_data"
    }
   ],
   "source": [
    "model.plot_deltas()"
   ]
  },
  {
   "cell_type": "code",
   "execution_count": 8,
   "metadata": {
    "collapsed": false
   },
   "outputs": [
    {
     "data": {
      "text/plain": [
       "array([<matplotlib.axes._subplots.AxesSubplot object at 0x7f4e333678d0>,\n",
       "       <matplotlib.axes._subplots.AxesSubplot object at 0x7f4e318c6dd8>], dtype=object)"
      ]
     },
     "execution_count": 8,
     "metadata": {},
     "output_type": "execute_result"
    },
    {
     "data": {
      "image/png": "[encoded data removed]",
      "text/plain": [
       "<matplotlib.figure.Figure at 0x7f4e319540b8>"
      ]
     },
     "metadata": {},
     "output_type": "display_data"
    }
   ],
   "source": [
    "model.plot_params()"
   ]
  }
 ],
 "metadata": {
  "kernelspec": {
   "display_name": "Python 3",
   "language": "python",
   "name": "python3"
  },
  "language_info": {
   "codemirror_mode": {
    "name": "ipython",
    "version": 3
   },
   "file_extension": ".py",
   "mimetype": "text/x-python",
   "name": "python",
   "nbconvert_exporter": "python",
   "pygments_lexer": "ipython3",
   "version": "3.5.3"
  }
 },
 "nbformat": 4,
 "nbformat_minor": 2
}
