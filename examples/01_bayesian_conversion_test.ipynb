{
 "cells": [
  {
   "cell_type": "code",
   "execution_count": 1,
   "metadata": {
    "collapsed": true
   },
   "outputs": [],
   "source": [
    "import tensorflow as tf"
   ]
  },
  {
   "cell_type": "code",
   "execution_count": 1,
   "metadata": {
    "collapsed": true
   },
   "outputs": [],
   "source": [
    "import pandas as pd\n",
    "import scipy as sp\n",
    "\n",
    "import daft\n",
    "#from matplotlib import rc\n",
    "\n",
    "from abtools.bayesian import BinaryABModel\n",
    "\n",
    "%matplotlib inline\n"
   ]
  },
  {
   "cell_type": "code",
   "execution_count": 2,
   "metadata": {},
   "outputs": [
    {
     "data": {
      "image/png": "[encoded data removed]",
      "text/plain": [
       "<matplotlib.figure.Figure at 0x7f99d17d46a0>"
      ]
     },
     "metadata": {},
     "output_type": "display_data"
    }
   ],
   "source": [
    "pgm = daft.PGM([4, 3], origin=[0, 0])\n",
    "pgm.add_node(daft.Node(\"pA\", r\"$p_A$\", 1.5, 2))\n",
    "pgm.add_node(daft.Node(\"pB\", r\"$p_B$\", 2.5, 2))\n",
    "pgm.add_node(daft.Node(\"A_conv\", r\"$A$\", 1, 1, aspect=1, observed=True))\n",
    "pgm.add_node(daft.Node(\"B_conv\", r\"$B$\", 3, 1, aspect=1, observed=True))\n",
    "pgm.add_node(daft.Node(\"d_conv\", r\"$\\Delta_{p}$\", 2, 1, aspect=1))\n",
    "\n",
    "pgm.add_edge('pA','A_conv')\n",
    "pgm.add_edge('pB','B_conv')\n",
    "pgm.add_edge('pA','d_conv')\n",
    "pgm.add_edge('pB','d_conv')\n",
    "\n",
    "pgm.add_plate(daft.Plate([0.35, 0.7, 3.25, 0.75], shift=-0.1))\n",
    "pgm.render()\n",
    "\n",
    "pgm.figure.savefig(\"conversion_model.png\", dpi=350)"
   ]
  },
  {
   "cell_type": "code",
   "execution_count": 3,
   "metadata": {},
   "outputs": [
    {
     "name": "stdout",
     "output_type": "stream",
     "text": [
      "Mean: 0.0506, std: 0.22\n",
      "Mean: 0.0522, std: 0.22\n",
      "y2 больше y1 на 0.0015 = 3%\n"
     ]
    }
   ],
   "source": [
    "p = .05\n",
    "size = 50000\n",
    "delta_true = .03\n",
    "\n",
    "y1 = pd.Series(sp.stats.bernoulli.rvs(p=p, size=size, random_state=8228))\n",
    "y2 = pd.Series(sp.stats.bernoulli.rvs(p=p*(1+delta_true), size=size, random_state=8228))\n",
    "\n",
    "print('Mean: %.4f, std: %.2f' % (y1.mean(), y1.std()))\n",
    "print('Mean: %.4f, std: %.2f' % (y2.mean(), y2.std()))\n",
    "print('y2 больше y1 на %.4f = %d%%' % (y2.mean()- y1.mean(), (y2.mean()/y1.mean()-1)*100))"
   ]
  },
  {
   "cell_type": "code",
   "execution_count": 4,
   "metadata": {},
   "outputs": [
    {
     "name": "stderr",
     "output_type": "stream",
     "text": [
      "/usr/local/lib/python3.5/dist-packages/theano/tensor/basic.py:2146: UserWarning: theano.tensor.round() changed its default from `half_away_from_zero` to `half_to_even` to have the same default as NumPy. Use the Theano flag `warn.round=False` to disable this warning.\n",
      "  \"theano.tensor.round() changed its default from\"\n",
      "/usr/local/lib/python3.5/dist-packages/theano/tensor/basic.py:2146: UserWarning: theano.tensor.round() changed its default from `half_away_from_zero` to `half_to_even` to have the same default as NumPy. Use the Theano flag `warn.round=False` to disable this warning.\n",
      "  \"theano.tensor.round() changed its default from\"\n"
     ]
    },
    {
     "name": "stdout",
     "output_type": "stream",
     "text": [
      "Optimization terminated successfully.\n",
      "         Current function value: 20264.219070\n",
      "         Iterations: 17\n",
      "         Function evaluations: 22\n",
      "         Gradient evaluations: 22\n"
     ]
    },
    {
     "name": "stderr",
     "output_type": "stream",
     "text": [
      "100%|██████████| 10000/10000 [00:08<00:00, 1238.87it/s]\n"
     ]
    },
    {
     "data": {
      "text/plain": [
       "<abtools.bayesian.abmodels.BinaryABModel at 0x7f99d1397748>"
      ]
     },
     "execution_count": 4,
     "metadata": {},
     "output_type": "execute_result"
    }
   ],
   "source": [
    "model = BinaryABModel(y1, y2)\n",
    "model.fit()"
   ]
  },
  {
   "cell_type": "code",
   "execution_count": 5,
   "metadata": {},
   "outputs": [
    {
     "data": {
      "text/plain": [
       "array([<matplotlib.axes._subplots.AxesSubplot object at 0x7f99c107cbe0>], dtype=object)"
      ]
     },
     "execution_count": 5,
     "metadata": {},
     "output_type": "execute_result"
    },
    {
     "data": {
      "image/png": "[encoded data removed]",
      "text/plain": [
       "<matplotlib.figure.Figure at 0x7f99d1394e80>"
      ]
     },
     "metadata": {},
     "output_type": "display_data"
    }
   ],
   "source": [
    "model.plot_deltas()"
   ]
  },
  {
   "cell_type": "code",
   "execution_count": 6,
   "metadata": {},
   "outputs": [
    {
     "data": {
      "text/plain": [
       "array([<matplotlib.axes._subplots.AxesSubplot object at 0x7f99bf05cac8>,\n",
       "       <matplotlib.axes._subplots.AxesSubplot object at 0x7f99be77eb38>], dtype=object)"
      ]
     },
     "execution_count": 6,
     "metadata": {},
     "output_type": "execute_result"
    },
    {
     "data": {
      "image/png": "[encoded data removed]",
      "text/plain": [
       "<matplotlib.figure.Figure at 0x7f99d1757128>"
      ]
     },
     "metadata": {},
     "output_type": "display_data"
    }
   ],
   "source": [
    "model.plot_params()"
   ]
  },
  {
   "cell_type": "code",
   "execution_count": null,
   "metadata": {
    "collapsed": true
   },
   "outputs": [],
   "source": []
  }
 ],
 "metadata": {
  "kernelspec": {
   "display_name": "Python 3",
   "language": "python",
   "name": "python3"
  },
  "language_info": {
   "codemirror_mode": {
    "name": "ipython",
    "version": 3
   },
   "file_extension": ".py",
   "mimetype": "text/x-python",
   "name": "python",
   "nbconvert_exporter": "python",
   "pygments_lexer": "ipython3",
   "version": "3.5.2"
  }
 },
 "nbformat": 4,
 "nbformat_minor": 2
}
