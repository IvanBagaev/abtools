{
 "cells": [
  {
   "cell_type": "code",
   "execution_count": 1,
   "metadata": {},
   "outputs": [],
   "source": [
    "import pandas as pd\n",
    "import scipy as sp\n",
    "import numpy as np\n",
    "\n",
    "from abtools.bayesian import LognormalABModel\n",
    "\n",
    "%matplotlib inline\n",
    "import matplotlib.pyplot as plt"
   ]
  },
  {
   "cell_type": "code",
   "execution_count": 2,
   "metadata": {},
   "outputs": [],
   "source": [
    "data = pd.read_csv('data.csv')"
   ]
  },
  {
   "cell_type": "code",
   "execution_count": 3,
   "metadata": {},
   "outputs": [
    {
     "name": "stdout",
     "output_type": "stream",
     "text": [
      "ARPPU\n",
      "Mean: 20.7789\n",
      "Mean: 21.3597\n",
      "B больше A на 0.5808 = 2%\n"
     ]
    }
   ],
   "source": [
    "a = data.query('abgroup == \"control\"')['sp']\n",
    "b = data.query('abgroup == \"test\"')['sp']\n",
    "\n",
    "print('ARPPU')\n",
    "print('Mean: %.4f' % a.mean())\n",
    "print('Mean: %.4f' % b.mean())\n",
    "print('B больше A на %.4f = %d%%' % (b.mean()- a.mean(), \n",
    "                                    (b.mean() / a.mean()-1)*100))"
   ]
  },
  {
   "cell_type": "code",
   "execution_count": 6,
   "metadata": {
    "collapsed": true
   },
   "outputs": [],
   "source": [
    "m = (a.mean() + b.mean()) / 2\n",
    "v = (a.var() + b.var()) / 2\n",
    "\n",
    "def mu(m, v):\n",
    "    return np.log(m / np.sqrt(1 + v / (m ** 2)))\n",
    "\n",
    "def sd(m, v):\n",
    "    return 1 / np.log(1 + v / (m ** 2))"
   ]
  },
  {
   "cell_type": "code",
   "execution_count": 7,
   "metadata": {},
   "outputs": [
    {
     "name": "stdout",
     "output_type": "stream",
     "text": [
      "1.62796167804\n",
      "0.352148646367\n"
     ]
    }
   ],
   "source": [
    "print(mu(m, v))\n",
    "print(sd(m, v))"
   ]
  },
  {
   "cell_type": "code",
   "execution_count": 8,
   "metadata": {},
   "outputs": [
    {
     "name": "stdout",
     "output_type": "stream",
     "text": [
      "Warning: Desired error not necessarily achieved due to precision loss.\n",
      "         Current function value: 165544.524604\n",
      "         Iterations: 9\n",
      "         Function evaluations: 219\n",
      "         Gradient evaluations: 207\n"
     ]
    },
    {
     "name": "stderr",
     "output_type": "stream",
     "text": [
      "100%|██████████| 10000/10000 [00:11<00:00, 870.42it/s]\n"
     ]
    }
   ],
   "source": [
    "model = LognormalABModel(a, b)\n",
    "model.fit()"
   ]
  },
  {
   "cell_type": "code",
   "execution_count": 9,
   "metadata": {},
   "outputs": [
    {
     "data": {
      "text/html": [
       "<div>\n",
       "<style>\n",
       "    .dataframe thead tr:only-child th {\n",
       "        text-align: right;\n",
       "    }\n",
       "\n",
       "    .dataframe thead th {\n",
       "        text-align: left;\n",
       "    }\n",
       "\n",
       "    .dataframe tbody tr th {\n",
       "        vertical-align: top;\n",
       "    }\n",
       "</style>\n",
       "<table border=\"1\" class=\"dataframe\">\n",
       "  <thead>\n",
       "    <tr style=\"text-align: right;\">\n",
       "      <th></th>\n",
       "      <th>mean</th>\n",
       "      <th>sd</th>\n",
       "      <th>mc_error</th>\n",
       "      <th>hpd_2.5</th>\n",
       "      <th>hpd_97.5</th>\n",
       "    </tr>\n",
       "  </thead>\n",
       "  <tbody>\n",
       "    <tr>\n",
       "      <th>$\\mu_{ln(A)}$</th>\n",
       "      <td>1.328479</td>\n",
       "      <td>0.011004</td>\n",
       "      <td>0.000308</td>\n",
       "      <td>1.308089</td>\n",
       "      <td>1.350901</td>\n",
       "    </tr>\n",
       "    <tr>\n",
       "      <th>$\\mu_{ln(B)}$</th>\n",
       "      <td>1.339023</td>\n",
       "      <td>0.010629</td>\n",
       "      <td>0.000300</td>\n",
       "      <td>1.319226</td>\n",
       "      <td>1.360779</td>\n",
       "    </tr>\n",
       "    <tr>\n",
       "      <th>$\\tau_A$</th>\n",
       "      <td>0.333594</td>\n",
       "      <td>0.003052</td>\n",
       "      <td>0.000075</td>\n",
       "      <td>0.327316</td>\n",
       "      <td>0.339272</td>\n",
       "    </tr>\n",
       "    <tr>\n",
       "      <th>$\\tau_B$</th>\n",
       "      <td>0.333422</td>\n",
       "      <td>0.003072</td>\n",
       "      <td>0.000080</td>\n",
       "      <td>0.327650</td>\n",
       "      <td>0.339751</td>\n",
       "    </tr>\n",
       "    <tr>\n",
       "      <th>$\\mu_A$</th>\n",
       "      <td>16.904586</td>\n",
       "      <td>0.297040</td>\n",
       "      <td>0.007513</td>\n",
       "      <td>16.353505</td>\n",
       "      <td>17.508670</td>\n",
       "    </tr>\n",
       "    <tr>\n",
       "      <th>$\\mu_B$</th>\n",
       "      <td>17.097009</td>\n",
       "      <td>0.296724</td>\n",
       "      <td>0.007812</td>\n",
       "      <td>16.516910</td>\n",
       "      <td>17.662030</td>\n",
       "    </tr>\n",
       "    <tr>\n",
       "      <th>$A_{\\sigma^2}$</th>\n",
       "      <td>5.244609</td>\n",
       "      <td>0.115376</td>\n",
       "      <td>0.003226</td>\n",
       "      <td>5.033816</td>\n",
       "      <td>5.483818</td>\n",
       "    </tr>\n",
       "    <tr>\n",
       "      <th>$B_{\\sigma^2}$</th>\n",
       "      <td>5.356295</td>\n",
       "      <td>0.113970</td>\n",
       "      <td>0.003213</td>\n",
       "      <td>5.147195</td>\n",
       "      <td>5.593240</td>\n",
       "    </tr>\n",
       "    <tr>\n",
       "      <th>$\\Delta_{\\mu}$</th>\n",
       "      <td>0.192423</td>\n",
       "      <td>0.422475</td>\n",
       "      <td>0.011378</td>\n",
       "      <td>-0.637397</td>\n",
       "      <td>0.980716</td>\n",
       "    </tr>\n",
       "    <tr>\n",
       "      <th>$\\Delta_{\\sigma}$</th>\n",
       "      <td>0.024264</td>\n",
       "      <td>0.035556</td>\n",
       "      <td>0.000974</td>\n",
       "      <td>-0.040797</td>\n",
       "      <td>0.097257</td>\n",
       "    </tr>\n",
       "    <tr>\n",
       "      <th>Effect size</th>\n",
       "      <td>0.083604</td>\n",
       "      <td>0.183540</td>\n",
       "      <td>0.004939</td>\n",
       "      <td>-0.276707</td>\n",
       "      <td>0.425506</td>\n",
       "    </tr>\n",
       "  </tbody>\n",
       "</table>\n",
       "</div>"
      ],
      "text/plain": [
       "                        mean        sd  mc_error    hpd_2.5   hpd_97.5\n",
       "$\\mu_{ln(A)}$       1.328479  0.011004  0.000308   1.308089   1.350901\n",
       "$\\mu_{ln(B)}$       1.339023  0.010629  0.000300   1.319226   1.360779\n",
       "$\\tau_A$            0.333594  0.003052  0.000075   0.327316   0.339272\n",
       "$\\tau_B$            0.333422  0.003072  0.000080   0.327650   0.339751\n",
       "$\\mu_A$            16.904586  0.297040  0.007513  16.353505  17.508670\n",
       "$\\mu_B$            17.097009  0.296724  0.007812  16.516910  17.662030\n",
       "$A_{\\sigma^2}$      5.244609  0.115376  0.003226   5.033816   5.483818\n",
       "$B_{\\sigma^2}$      5.356295  0.113970  0.003213   5.147195   5.593240\n",
       "$\\Delta_{\\mu}$      0.192423  0.422475  0.011378  -0.637397   0.980716\n",
       "$\\Delta_{\\sigma}$   0.024264  0.035556  0.000974  -0.040797   0.097257\n",
       "Effect size         0.083604  0.183540  0.004939  -0.276707   0.425506"
      ]
     },
     "execution_count": 9,
     "metadata": {},
     "output_type": "execute_result"
    }
   ],
   "source": [
    "model.summary()"
   ]
  },
  {
   "cell_type": "code",
   "execution_count": 10,
   "metadata": {},
   "outputs": [
    {
     "data": {
      "text/plain": [
       "array([<matplotlib.axes._subplots.AxesSubplot object at 0x7fc1ecb3b0f0>,\n",
       "       <matplotlib.axes._subplots.AxesSubplot object at 0x7fc1eb302470>,\n",
       "       <matplotlib.axes._subplots.AxesSubplot object at 0x7fc1ea5f72e8>], dtype=object)"
      ]
     },
     "execution_count": 10,
     "metadata": {},
     "output_type": "execute_result"
    },
    {
     "data": {
      "image/png": "[encoded data removed]",
      "text/plain": [
       "<matplotlib.figure.Figure at 0x7fc1ecb45898>"
      ]
     },
     "metadata": {},
     "output_type": "display_data"
    }
   ],
   "source": [
    "model.plot_deltas()"
   ]
  },
  {
   "cell_type": "code",
   "execution_count": 11,
   "metadata": {},
   "outputs": [
    {
     "data": {
      "text/plain": [
       "array([<matplotlib.axes._subplots.AxesSubplot object at 0x7fc1ebcf2390>,\n",
       "       <matplotlib.axes._subplots.AxesSubplot object at 0x7fc1ecc5a7f0>], dtype=object)"
      ]
     },
     "execution_count": 11,
     "metadata": {},
     "output_type": "execute_result"
    },
    {
     "data": {
      "image/png": "[encoded data removed]",
      "text/plain": [
       "<matplotlib.figure.Figure at 0x7fc1ecb24828>"
      ]
     },
     "metadata": {},
     "output_type": "display_data"
    }
   ],
   "source": [
    "model.plot_params()"
   ]
  },
  {
   "cell_type": "code",
   "execution_count": 4,
   "metadata": {
    "collapsed": true
   },
   "outputs": [],
   "source": [
    "from abtools.frequentist import ztest, ttest"
   ]
  },
  {
   "cell_type": "code",
   "execution_count": 5,
   "metadata": {},
   "outputs": [
    {
     "name": "stdout",
     "output_type": "stream",
     "text": [
      "Fisher's z-test:\n",
      "--------------------------\n",
      "\tObserved difference of means (E(B) - E(A)) = -4.13\n",
      "\tz-statistic = 0.6585 and z-critical = 1.9600\n",
      "\tA group's mean 95% confidence interval = [13.90, 32.13]\n",
      "\tB group's mean 95% confidence interval = [10.58, 27.18]\n",
      "\tTwo-sided p-value = 0.510189617745\n",
      "\tNull hypotesis is not rejected\n",
      "\tE(A) = E(B)\n"
     ]
    },
    {
     "data": {
      "text/plain": [
       "(0.51018961774470317, False, 'E(A) = E(B)')"
      ]
     },
     "execution_count": 5,
     "metadata": {},
     "output_type": "execute_result"
    }
   ],
   "source": [
    "ztest(a.sample(frac=0.01), b.sample(frac=0.01))"
   ]
  },
  {
   "cell_type": "code",
   "execution_count": 6,
   "metadata": {},
   "outputs": [
    {
     "name": "stdout",
     "output_type": "stream",
     "text": [
      "Student's unpaired t-test:\n",
      "--------------------------\n",
      "\tObserved difference of means (E(B) - E(A)) = 3.22\n",
      "\tt-statistic = -0.5115 and t-critical = 1.9668\n",
      "\tA group's mean 95% confidence interval = [11.45, 21.80]\n",
      "\tB group's mean 95% confidence interval = [8.58, 31.12]\n",
      "\tTwo-sided p-value = 0.609312684397\n",
      "\tNull hypotesis is not rejected\n",
      "\tE(A) = E(B)\n"
     ]
    },
    {
     "data": {
      "text/plain": [
       "(0.60931268439706698, False, 'E(A) = E(B)')"
      ]
     },
     "execution_count": 6,
     "metadata": {},
     "output_type": "execute_result"
    }
   ],
   "source": [
    "ttest(a.sample(frac=0.01), b.sample(frac=0.01))"
   ]
  },
  {
   "cell_type": "code",
   "execution_count": null,
   "metadata": {
    "collapsed": true
   },
   "outputs": [],
   "source": []
  }
 ],
 "metadata": {
  "kernelspec": {
   "display_name": "Python 3",
   "language": "python",
   "name": "python3"
  },
  "language_info": {
   "codemirror_mode": {
    "name": "ipython",
    "version": 3
   },
   "file_extension": ".py",
   "mimetype": "text/x-python",
   "name": "python",
   "nbconvert_exporter": "python",
   "pygments_lexer": "ipython3",
   "version": "3.5.3"
  }
 },
 "nbformat": 4,
 "nbformat_minor": 2
}
